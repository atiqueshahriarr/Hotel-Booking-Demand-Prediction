{
  "nbformat": 4,
  "nbformat_minor": 0,
  "metadata": {
    "colab": {
      "provenance": []
    },
    "kernelspec": {
      "name": "python3",
      "display_name": "Python 3"
    },
    "language_info": {
      "name": "python"
    }
  },
  "cells": [
    {
      "cell_type": "markdown",
      "source": [
        "# Hotel Reservations DataSet"
      ],
      "metadata": {
        "id": "0T03UiEgScbu"
      }
    },
    {
      "cell_type": "code",
      "source": [
        "from google.colab import drive\n",
        "drive.mount('/content/drive')"
      ],
      "metadata": {
        "colab": {
          "base_uri": "https://localhost:8080/"
        },
        "id": "GwL1Z7GsSiKO",
        "outputId": "83729e76-13fc-4a33-9300-fb8dd49b64e5"
      },
      "execution_count": null,
      "outputs": [
        {
          "output_type": "stream",
          "name": "stdout",
          "text": [
            "Drive already mounted at /content/drive; to attempt to forcibly remount, call drive.mount(\"/content/drive\", force_remount=True).\n"
          ]
        }
      ]
    },
    {
      "cell_type": "code",
      "source": [
        "import pandas as pd\n",
        "import numpy as np"
      ],
      "metadata": {
        "id": "kB0GI5rzS9g8"
      },
      "execution_count": null,
      "outputs": []
    },
    {
      "cell_type": "code",
      "source": [
        "hotel= pd.read_csv(\"/content/drive/MyDrive/Colab Notebooks/Dataset 2/Hotel Reservations.csv\")\n",
        "hotel"
      ],
      "metadata": {
        "colab": {
          "base_uri": "https://localhost:8080/"
        },
        "id": "YwwnoYg5TGg9",
        "outputId": "637dcd25-00df-4ed4-d9f1-8eaea55bf6af"
      },
      "execution_count": null,
      "outputs": [
        {
          "output_type": "execute_result",
          "data": {
            "text/plain": [
              "      Booking_ID  no_of_adults  no_of_children  no_of_weekend_nights  \\\n",
              "0       INN00001             2               0                     1   \n",
              "1       INN00002             2               0                     2   \n",
              "2       INN00003             1               0                     2   \n",
              "3       INN00004             2               0                     0   \n",
              "4       INN00005             2               0                     1   \n",
              "...          ...           ...             ...                   ...   \n",
              "36270   INN36271             3               0                     2   \n",
              "36271   INN36272             2               0                     1   \n",
              "36272   INN36273             2               0                     2   \n",
              "36273   INN36274             2               0                     0   \n",
              "36274   INN36275             2               0                     1   \n",
              "\n",
              "       no_of_week_nights type_of_meal_plan  required_car_parking_space  \\\n",
              "0                      2       Meal Plan 1                           0   \n",
              "1                      3      Not Selected                           0   \n",
              "2                      1       Meal Plan 1                           0   \n",
              "3                      2       Meal Plan 1                           0   \n",
              "4                      1      Not Selected                           0   \n",
              "...                  ...               ...                         ...   \n",
              "36270                  6       Meal Plan 1                           0   \n",
              "36271                  3       Meal Plan 1                           0   \n",
              "36272                  6       Meal Plan 1                           0   \n",
              "36273                  3      Not Selected                           0   \n",
              "36274                  2       Meal Plan 1                           0   \n",
              "\n",
              "      room_type_reserved  lead_time  arrival_year  arrival_month  \\\n",
              "0            Room_Type 1        224          2017             10   \n",
              "1            Room_Type 1          5          2018             11   \n",
              "2            Room_Type 1          1          2018              2   \n",
              "3            Room_Type 1        211          2018              5   \n",
              "4            Room_Type 1         48          2018              4   \n",
              "...                  ...        ...           ...            ...   \n",
              "36270        Room_Type 4         85          2018              8   \n",
              "36271        Room_Type 1        228          2018             10   \n",
              "36272        Room_Type 1        148          2018              7   \n",
              "36273        Room_Type 1         63          2018              4   \n",
              "36274        Room_Type 1        207          2018             12   \n",
              "\n",
              "       arrival_date market_segment_type  repeated_guest  \\\n",
              "0                 2             Offline               0   \n",
              "1                 6              Online               0   \n",
              "2                28              Online               0   \n",
              "3                20              Online               0   \n",
              "4                11              Online               0   \n",
              "...             ...                 ...             ...   \n",
              "36270             3              Online               0   \n",
              "36271            17              Online               0   \n",
              "36272             1              Online               0   \n",
              "36273            21              Online               0   \n",
              "36274            30             Offline               0   \n",
              "\n",
              "       no_of_previous_cancellations  no_of_previous_bookings_not_canceled  \\\n",
              "0                                 0                                     0   \n",
              "1                                 0                                     0   \n",
              "2                                 0                                     0   \n",
              "3                                 0                                     0   \n",
              "4                                 0                                     0   \n",
              "...                             ...                                   ...   \n",
              "36270                             0                                     0   \n",
              "36271                             0                                     0   \n",
              "36272                             0                                     0   \n",
              "36273                             0                                     0   \n",
              "36274                             0                                     0   \n",
              "\n",
              "       avg_price_per_room  no_of_special_requests booking_status  \n",
              "0                   65.00                       0   Not_Canceled  \n",
              "1                  106.68                       1   Not_Canceled  \n",
              "2                   60.00                       0       Canceled  \n",
              "3                  100.00                       0       Canceled  \n",
              "4                   94.50                       0       Canceled  \n",
              "...                   ...                     ...            ...  \n",
              "36270              167.80                       1   Not_Canceled  \n",
              "36271               90.95                       2       Canceled  \n",
              "36272               98.39                       2   Not_Canceled  \n",
              "36273               94.50                       0       Canceled  \n",
              "36274              161.67                       0   Not_Canceled  \n",
              "\n",
              "[36275 rows x 19 columns]"
            ],
            "text/html": [
              "\n",
              "  <div id=\"df-59878292-d500-4e01-89a5-532d886783e2\">\n",
              "    <div class=\"colab-df-container\">\n",
              "      <div>\n",
              "<style scoped>\n",
              "    .dataframe tbody tr th:only-of-type {\n",
              "        vertical-align: middle;\n",
              "    }\n",
              "\n",
              "    .dataframe tbody tr th {\n",
              "        vertical-align: top;\n",
              "    }\n",
              "\n",
              "    .dataframe thead th {\n",
              "        text-align: right;\n",
              "    }\n",
              "</style>\n",
              "<table border=\"1\" class=\"dataframe\">\n",
              "  <thead>\n",
              "    <tr style=\"text-align: right;\">\n",
              "      <th></th>\n",
              "      <th>Booking_ID</th>\n",
              "      <th>no_of_adults</th>\n",
              "      <th>no_of_children</th>\n",
              "      <th>no_of_weekend_nights</th>\n",
              "      <th>no_of_week_nights</th>\n",
              "      <th>type_of_meal_plan</th>\n",
              "      <th>required_car_parking_space</th>\n",
              "      <th>room_type_reserved</th>\n",
              "      <th>lead_time</th>\n",
              "      <th>arrival_year</th>\n",
              "      <th>arrival_month</th>\n",
              "      <th>arrival_date</th>\n",
              "      <th>market_segment_type</th>\n",
              "      <th>repeated_guest</th>\n",
              "      <th>no_of_previous_cancellations</th>\n",
              "      <th>no_of_previous_bookings_not_canceled</th>\n",
              "      <th>avg_price_per_room</th>\n",
              "      <th>no_of_special_requests</th>\n",
              "      <th>booking_status</th>\n",
              "    </tr>\n",
              "  </thead>\n",
              "  <tbody>\n",
              "    <tr>\n",
              "      <th>0</th>\n",
              "      <td>INN00001</td>\n",
              "      <td>2</td>\n",
              "      <td>0</td>\n",
              "      <td>1</td>\n",
              "      <td>2</td>\n",
              "      <td>Meal Plan 1</td>\n",
              "      <td>0</td>\n",
              "      <td>Room_Type 1</td>\n",
              "      <td>224</td>\n",
              "      <td>2017</td>\n",
              "      <td>10</td>\n",
              "      <td>2</td>\n",
              "      <td>Offline</td>\n",
              "      <td>0</td>\n",
              "      <td>0</td>\n",
              "      <td>0</td>\n",
              "      <td>65.00</td>\n",
              "      <td>0</td>\n",
              "      <td>Not_Canceled</td>\n",
              "    </tr>\n",
              "    <tr>\n",
              "      <th>1</th>\n",
              "      <td>INN00002</td>\n",
              "      <td>2</td>\n",
              "      <td>0</td>\n",
              "      <td>2</td>\n",
              "      <td>3</td>\n",
              "      <td>Not Selected</td>\n",
              "      <td>0</td>\n",
              "      <td>Room_Type 1</td>\n",
              "      <td>5</td>\n",
              "      <td>2018</td>\n",
              "      <td>11</td>\n",
              "      <td>6</td>\n",
              "      <td>Online</td>\n",
              "      <td>0</td>\n",
              "      <td>0</td>\n",
              "      <td>0</td>\n",
              "      <td>106.68</td>\n",
              "      <td>1</td>\n",
              "      <td>Not_Canceled</td>\n",
              "    </tr>\n",
              "    <tr>\n",
              "      <th>2</th>\n",
              "      <td>INN00003</td>\n",
              "      <td>1</td>\n",
              "      <td>0</td>\n",
              "      <td>2</td>\n",
              "      <td>1</td>\n",
              "      <td>Meal Plan 1</td>\n",
              "      <td>0</td>\n",
              "      <td>Room_Type 1</td>\n",
              "      <td>1</td>\n",
              "      <td>2018</td>\n",
              "      <td>2</td>\n",
              "      <td>28</td>\n",
              "      <td>Online</td>\n",
              "      <td>0</td>\n",
              "      <td>0</td>\n",
              "      <td>0</td>\n",
              "      <td>60.00</td>\n",
              "      <td>0</td>\n",
              "      <td>Canceled</td>\n",
              "    </tr>\n",
              "    <tr>\n",
              "      <th>3</th>\n",
              "      <td>INN00004</td>\n",
              "      <td>2</td>\n",
              "      <td>0</td>\n",
              "      <td>0</td>\n",
              "      <td>2</td>\n",
              "      <td>Meal Plan 1</td>\n",
              "      <td>0</td>\n",
              "      <td>Room_Type 1</td>\n",
              "      <td>211</td>\n",
              "      <td>2018</td>\n",
              "      <td>5</td>\n",
              "      <td>20</td>\n",
              "      <td>Online</td>\n",
              "      <td>0</td>\n",
              "      <td>0</td>\n",
              "      <td>0</td>\n",
              "      <td>100.00</td>\n",
              "      <td>0</td>\n",
              "      <td>Canceled</td>\n",
              "    </tr>\n",
              "    <tr>\n",
              "      <th>4</th>\n",
              "      <td>INN00005</td>\n",
              "      <td>2</td>\n",
              "      <td>0</td>\n",
              "      <td>1</td>\n",
              "      <td>1</td>\n",
              "      <td>Not Selected</td>\n",
              "      <td>0</td>\n",
              "      <td>Room_Type 1</td>\n",
              "      <td>48</td>\n",
              "      <td>2018</td>\n",
              "      <td>4</td>\n",
              "      <td>11</td>\n",
              "      <td>Online</td>\n",
              "      <td>0</td>\n",
              "      <td>0</td>\n",
              "      <td>0</td>\n",
              "      <td>94.50</td>\n",
              "      <td>0</td>\n",
              "      <td>Canceled</td>\n",
              "    </tr>\n",
              "    <tr>\n",
              "      <th>...</th>\n",
              "      <td>...</td>\n",
              "      <td>...</td>\n",
              "      <td>...</td>\n",
              "      <td>...</td>\n",
              "      <td>...</td>\n",
              "      <td>...</td>\n",
              "      <td>...</td>\n",
              "      <td>...</td>\n",
              "      <td>...</td>\n",
              "      <td>...</td>\n",
              "      <td>...</td>\n",
              "      <td>...</td>\n",
              "      <td>...</td>\n",
              "      <td>...</td>\n",
              "      <td>...</td>\n",
              "      <td>...</td>\n",
              "      <td>...</td>\n",
              "      <td>...</td>\n",
              "      <td>...</td>\n",
              "    </tr>\n",
              "    <tr>\n",
              "      <th>36270</th>\n",
              "      <td>INN36271</td>\n",
              "      <td>3</td>\n",
              "      <td>0</td>\n",
              "      <td>2</td>\n",
              "      <td>6</td>\n",
              "      <td>Meal Plan 1</td>\n",
              "      <td>0</td>\n",
              "      <td>Room_Type 4</td>\n",
              "      <td>85</td>\n",
              "      <td>2018</td>\n",
              "      <td>8</td>\n",
              "      <td>3</td>\n",
              "      <td>Online</td>\n",
              "      <td>0</td>\n",
              "      <td>0</td>\n",
              "      <td>0</td>\n",
              "      <td>167.80</td>\n",
              "      <td>1</td>\n",
              "      <td>Not_Canceled</td>\n",
              "    </tr>\n",
              "    <tr>\n",
              "      <th>36271</th>\n",
              "      <td>INN36272</td>\n",
              "      <td>2</td>\n",
              "      <td>0</td>\n",
              "      <td>1</td>\n",
              "      <td>3</td>\n",
              "      <td>Meal Plan 1</td>\n",
              "      <td>0</td>\n",
              "      <td>Room_Type 1</td>\n",
              "      <td>228</td>\n",
              "      <td>2018</td>\n",
              "      <td>10</td>\n",
              "      <td>17</td>\n",
              "      <td>Online</td>\n",
              "      <td>0</td>\n",
              "      <td>0</td>\n",
              "      <td>0</td>\n",
              "      <td>90.95</td>\n",
              "      <td>2</td>\n",
              "      <td>Canceled</td>\n",
              "    </tr>\n",
              "    <tr>\n",
              "      <th>36272</th>\n",
              "      <td>INN36273</td>\n",
              "      <td>2</td>\n",
              "      <td>0</td>\n",
              "      <td>2</td>\n",
              "      <td>6</td>\n",
              "      <td>Meal Plan 1</td>\n",
              "      <td>0</td>\n",
              "      <td>Room_Type 1</td>\n",
              "      <td>148</td>\n",
              "      <td>2018</td>\n",
              "      <td>7</td>\n",
              "      <td>1</td>\n",
              "      <td>Online</td>\n",
              "      <td>0</td>\n",
              "      <td>0</td>\n",
              "      <td>0</td>\n",
              "      <td>98.39</td>\n",
              "      <td>2</td>\n",
              "      <td>Not_Canceled</td>\n",
              "    </tr>\n",
              "    <tr>\n",
              "      <th>36273</th>\n",
              "      <td>INN36274</td>\n",
              "      <td>2</td>\n",
              "      <td>0</td>\n",
              "      <td>0</td>\n",
              "      <td>3</td>\n",
              "      <td>Not Selected</td>\n",
              "      <td>0</td>\n",
              "      <td>Room_Type 1</td>\n",
              "      <td>63</td>\n",
              "      <td>2018</td>\n",
              "      <td>4</td>\n",
              "      <td>21</td>\n",
              "      <td>Online</td>\n",
              "      <td>0</td>\n",
              "      <td>0</td>\n",
              "      <td>0</td>\n",
              "      <td>94.50</td>\n",
              "      <td>0</td>\n",
              "      <td>Canceled</td>\n",
              "    </tr>\n",
              "    <tr>\n",
              "      <th>36274</th>\n",
              "      <td>INN36275</td>\n",
              "      <td>2</td>\n",
              "      <td>0</td>\n",
              "      <td>1</td>\n",
              "      <td>2</td>\n",
              "      <td>Meal Plan 1</td>\n",
              "      <td>0</td>\n",
              "      <td>Room_Type 1</td>\n",
              "      <td>207</td>\n",
              "      <td>2018</td>\n",
              "      <td>12</td>\n",
              "      <td>30</td>\n",
              "      <td>Offline</td>\n",
              "      <td>0</td>\n",
              "      <td>0</td>\n",
              "      <td>0</td>\n",
              "      <td>161.67</td>\n",
              "      <td>0</td>\n",
              "      <td>Not_Canceled</td>\n",
              "    </tr>\n",
              "  </tbody>\n",
              "</table>\n",
              "<p>36275 rows × 19 columns</p>\n",
              "</div>\n",
              "      <button class=\"colab-df-convert\" onclick=\"convertToInteractive('df-59878292-d500-4e01-89a5-532d886783e2')\"\n",
              "              title=\"Convert this dataframe to an interactive table.\"\n",
              "              style=\"display:none;\">\n",
              "        \n",
              "  <svg xmlns=\"http://www.w3.org/2000/svg\" height=\"24px\"viewBox=\"0 0 24 24\"\n",
              "       width=\"24px\">\n",
              "    <path d=\"M0 0h24v24H0V0z\" fill=\"none\"/>\n",
              "    <path d=\"M18.56 5.44l.94 2.06.94-2.06 2.06-.94-2.06-.94-.94-2.06-.94 2.06-2.06.94zm-11 1L8.5 8.5l.94-2.06 2.06-.94-2.06-.94L8.5 2.5l-.94 2.06-2.06.94zm10 10l.94 2.06.94-2.06 2.06-.94-2.06-.94-.94-2.06-.94 2.06-2.06.94z\"/><path d=\"M17.41 7.96l-1.37-1.37c-.4-.4-.92-.59-1.43-.59-.52 0-1.04.2-1.43.59L10.3 9.45l-7.72 7.72c-.78.78-.78 2.05 0 2.83L4 21.41c.39.39.9.59 1.41.59.51 0 1.02-.2 1.41-.59l7.78-7.78 2.81-2.81c.8-.78.8-2.07 0-2.86zM5.41 20L4 18.59l7.72-7.72 1.47 1.35L5.41 20z\"/>\n",
              "  </svg>\n",
              "      </button>\n",
              "      \n",
              "  <style>\n",
              "    .colab-df-container {\n",
              "      display:flex;\n",
              "      flex-wrap:wrap;\n",
              "      gap: 12px;\n",
              "    }\n",
              "\n",
              "    .colab-df-convert {\n",
              "      background-color: #E8F0FE;\n",
              "      border: none;\n",
              "      border-radius: 50%;\n",
              "      cursor: pointer;\n",
              "      display: none;\n",
              "      fill: #1967D2;\n",
              "      height: 32px;\n",
              "      padding: 0 0 0 0;\n",
              "      width: 32px;\n",
              "    }\n",
              "\n",
              "    .colab-df-convert:hover {\n",
              "      background-color: #E2EBFA;\n",
              "      box-shadow: 0px 1px 2px rgba(60, 64, 67, 0.3), 0px 1px 3px 1px rgba(60, 64, 67, 0.15);\n",
              "      fill: #174EA6;\n",
              "    }\n",
              "\n",
              "    [theme=dark] .colab-df-convert {\n",
              "      background-color: #3B4455;\n",
              "      fill: #D2E3FC;\n",
              "    }\n",
              "\n",
              "    [theme=dark] .colab-df-convert:hover {\n",
              "      background-color: #434B5C;\n",
              "      box-shadow: 0px 1px 3px 1px rgba(0, 0, 0, 0.15);\n",
              "      filter: drop-shadow(0px 1px 2px rgba(0, 0, 0, 0.3));\n",
              "      fill: #FFFFFF;\n",
              "    }\n",
              "  </style>\n",
              "\n",
              "      <script>\n",
              "        const buttonEl =\n",
              "          document.querySelector('#df-59878292-d500-4e01-89a5-532d886783e2 button.colab-df-convert');\n",
              "        buttonEl.style.display =\n",
              "          google.colab.kernel.accessAllowed ? 'block' : 'none';\n",
              "\n",
              "        async function convertToInteractive(key) {\n",
              "          const element = document.querySelector('#df-59878292-d500-4e01-89a5-532d886783e2');\n",
              "          const dataTable =\n",
              "            await google.colab.kernel.invokeFunction('convertToInteractive',\n",
              "                                                     [key], {});\n",
              "          if (!dataTable) return;\n",
              "\n",
              "          const docLinkHtml = 'Like what you see? Visit the ' +\n",
              "            '<a target=\"_blank\" href=https://colab.research.google.com/notebooks/data_table.ipynb>data table notebook</a>'\n",
              "            + ' to learn more about interactive tables.';\n",
              "          element.innerHTML = '';\n",
              "          dataTable['output_type'] = 'display_data';\n",
              "          await google.colab.output.renderOutput(dataTable, element);\n",
              "          const docLink = document.createElement('div');\n",
              "          docLink.innerHTML = docLinkHtml;\n",
              "          element.appendChild(docLink);\n",
              "        }\n",
              "      </script>\n",
              "    </div>\n",
              "  </div>\n",
              "  "
            ]
          },
          "metadata": {},
          "execution_count": 3
        }
      ]
    },
    {
      "cell_type": "markdown",
      "source": [
        "# Null Value Handling"
      ],
      "metadata": {
        "id": "Zxlijb85Z9He"
      }
    },
    {
      "cell_type": "code",
      "source": [
        "hotel.isnull().sum()"
      ],
      "metadata": {
        "colab": {
          "base_uri": "https://localhost:8080/"
        },
        "id": "mFs4fBSBTUml",
        "outputId": "668538b2-8214-47a8-dd4b-124f94aba377"
      },
      "execution_count": null,
      "outputs": [
        {
          "output_type": "execute_result",
          "data": {
            "text/plain": [
              "Booking_ID                              0\n",
              "no_of_adults                            0\n",
              "no_of_children                          0\n",
              "no_of_weekend_nights                    0\n",
              "no_of_week_nights                       0\n",
              "type_of_meal_plan                       0\n",
              "required_car_parking_space              0\n",
              "room_type_reserved                      0\n",
              "lead_time                               0\n",
              "arrival_year                            0\n",
              "arrival_month                           0\n",
              "arrival_date                            0\n",
              "market_segment_type                     0\n",
              "repeated_guest                          0\n",
              "no_of_previous_cancellations            0\n",
              "no_of_previous_bookings_not_canceled    0\n",
              "avg_price_per_room                      0\n",
              "no_of_special_requests                  0\n",
              "booking_status                          0\n",
              "dtype: int64"
            ]
          },
          "metadata": {},
          "execution_count": 4
        }
      ]
    },
    {
      "cell_type": "markdown",
      "source": [
        "# Label Encoding"
      ],
      "metadata": {
        "id": "isfy_ANFZ49G"
      }
    },
    {
      "cell_type": "code",
      "source": [
        "hotel=hotel.drop('Booking_ID', axis=1)"
      ],
      "metadata": {
        "id": "FHQOVweNTwBk"
      },
      "execution_count": null,
      "outputs": []
    },
    {
      "cell_type": "code",
      "source": [
        "hotel.info()"
      ],
      "metadata": {
        "colab": {
          "base_uri": "https://localhost:8080/"
        },
        "id": "SNvoB3dbUBWk",
        "outputId": "77346f41-09b8-41a6-bb17-9dd4bacc3e55"
      },
      "execution_count": null,
      "outputs": [
        {
          "output_type": "stream",
          "name": "stdout",
          "text": [
            "<class 'pandas.core.frame.DataFrame'>\n",
            "RangeIndex: 36275 entries, 0 to 36274\n",
            "Data columns (total 18 columns):\n",
            " #   Column                                Non-Null Count  Dtype  \n",
            "---  ------                                --------------  -----  \n",
            " 0   no_of_adults                          36275 non-null  int64  \n",
            " 1   no_of_children                        36275 non-null  int64  \n",
            " 2   no_of_weekend_nights                  36275 non-null  int64  \n",
            " 3   no_of_week_nights                     36275 non-null  int64  \n",
            " 4   type_of_meal_plan                     36275 non-null  object \n",
            " 5   required_car_parking_space            36275 non-null  int64  \n",
            " 6   room_type_reserved                    36275 non-null  object \n",
            " 7   lead_time                             36275 non-null  int64  \n",
            " 8   arrival_year                          36275 non-null  int64  \n",
            " 9   arrival_month                         36275 non-null  int64  \n",
            " 10  arrival_date                          36275 non-null  int64  \n",
            " 11  market_segment_type                   36275 non-null  object \n",
            " 12  repeated_guest                        36275 non-null  int64  \n",
            " 13  no_of_previous_cancellations          36275 non-null  int64  \n",
            " 14  no_of_previous_bookings_not_canceled  36275 non-null  int64  \n",
            " 15  avg_price_per_room                    36275 non-null  float64\n",
            " 16  no_of_special_requests                36275 non-null  int64  \n",
            " 17  booking_status                        36275 non-null  object \n",
            "dtypes: float64(1), int64(13), object(4)\n",
            "memory usage: 5.0+ MB\n"
          ]
        }
      ]
    },
    {
      "cell_type": "code",
      "source": [
        "from sklearn.preprocessing import LabelEncoder\n",
        "lb=LabelEncoder()\n",
        "\n",
        "hotel['type_of_meal_plan'] = lb.fit_transform(hotel['type_of_meal_plan'])\n",
        "hotel['room_type_reserved']= lb.fit_transform(hotel['room_type_reserved'])\n",
        "hotel['market_segment_type']= lb.fit_transform(hotel['market_segment_type'])\n",
        "hotel['booking_status']=lb.fit_transform(hotel['booking_status'])"
      ],
      "metadata": {
        "id": "CKbUmjBkTm6t"
      },
      "execution_count": null,
      "outputs": []
    },
    {
      "cell_type": "code",
      "source": [
        "hotel.info()"
      ],
      "metadata": {
        "colab": {
          "base_uri": "https://localhost:8080/"
        },
        "id": "FUUDetekVLdu",
        "outputId": "68de0cbb-88bf-4668-f7e4-efa8f6ef19b1"
      },
      "execution_count": null,
      "outputs": [
        {
          "output_type": "stream",
          "name": "stdout",
          "text": [
            "<class 'pandas.core.frame.DataFrame'>\n",
            "RangeIndex: 36275 entries, 0 to 36274\n",
            "Data columns (total 18 columns):\n",
            " #   Column                                Non-Null Count  Dtype  \n",
            "---  ------                                --------------  -----  \n",
            " 0   no_of_adults                          36275 non-null  int64  \n",
            " 1   no_of_children                        36275 non-null  int64  \n",
            " 2   no_of_weekend_nights                  36275 non-null  int64  \n",
            " 3   no_of_week_nights                     36275 non-null  int64  \n",
            " 4   type_of_meal_plan                     36275 non-null  int64  \n",
            " 5   required_car_parking_space            36275 non-null  int64  \n",
            " 6   room_type_reserved                    36275 non-null  int64  \n",
            " 7   lead_time                             36275 non-null  int64  \n",
            " 8   arrival_year                          36275 non-null  int64  \n",
            " 9   arrival_month                         36275 non-null  int64  \n",
            " 10  arrival_date                          36275 non-null  int64  \n",
            " 11  market_segment_type                   36275 non-null  int64  \n",
            " 12  repeated_guest                        36275 non-null  int64  \n",
            " 13  no_of_previous_cancellations          36275 non-null  int64  \n",
            " 14  no_of_previous_bookings_not_canceled  36275 non-null  int64  \n",
            " 15  avg_price_per_room                    36275 non-null  float64\n",
            " 16  no_of_special_requests                36275 non-null  int64  \n",
            " 17  booking_status                        36275 non-null  int64  \n",
            "dtypes: float64(1), int64(17)\n",
            "memory usage: 5.0 MB\n"
          ]
        }
      ]
    },
    {
      "cell_type": "markdown",
      "source": [
        "# Feature Selection"
      ],
      "metadata": {
        "id": "urPoDy67Zxue"
      }
    },
    {
      "cell_type": "code",
      "source": [
        "x= hotel.drop('booking_status', axis=1)\n",
        "y= hotel['booking_status']"
      ],
      "metadata": {
        "id": "D1hpTm_8VQNV"
      },
      "execution_count": null,
      "outputs": []
    },
    {
      "cell_type": "code",
      "source": [
        "y"
      ],
      "metadata": {
        "colab": {
          "base_uri": "https://localhost:8080/"
        },
        "id": "8WwUxTV_WlxW",
        "outputId": "2b14a778-7d08-45b5-804d-36484733dfae"
      },
      "execution_count": null,
      "outputs": [
        {
          "output_type": "execute_result",
          "data": {
            "text/plain": [
              "0        1\n",
              "1        1\n",
              "2        0\n",
              "3        0\n",
              "4        0\n",
              "        ..\n",
              "36270    1\n",
              "36271    0\n",
              "36272    1\n",
              "36273    0\n",
              "36274    1\n",
              "Name: booking_status, Length: 36275, dtype: int64"
            ]
          },
          "metadata": {},
          "execution_count": 10
        }
      ]
    },
    {
      "cell_type": "markdown",
      "source": [
        "# Train Test Split"
      ],
      "metadata": {
        "id": "yL4oIMP0ZsBW"
      }
    },
    {
      "cell_type": "code",
      "source": [
        "from sklearn.model_selection import train_test_split\n",
        "x_train, x_test, y_train, y_test=train_test_split(x,y, test_size=0.2)"
      ],
      "metadata": {
        "id": "KuGTHEfxVgEH"
      },
      "execution_count": null,
      "outputs": []
    },
    {
      "cell_type": "markdown",
      "source": [
        "# Logistic Regression"
      ],
      "metadata": {
        "id": "RD8Fu-yQZCC3"
      }
    },
    {
      "cell_type": "code",
      "source": [
        "from sklearn.linear_model import LogisticRegression\n",
        "lgrg= LogisticRegression()\n",
        "\n",
        "lgrg.fit(x_train, y_train)\n",
        "lgrg.score(x_train, y_train)*100"
      ],
      "metadata": {
        "colab": {
          "base_uri": "https://localhost:8080/"
        },
        "id": "zEGBwoxvVucs",
        "outputId": "7204a293-787c-4d8e-a118-cdbe71a3db72"
      },
      "execution_count": null,
      "outputs": [
        {
          "output_type": "stream",
          "name": "stderr",
          "text": [
            "/usr/local/lib/python3.9/dist-packages/sklearn/linear_model/_logistic.py:458: ConvergenceWarning: lbfgs failed to converge (status=1):\n",
            "STOP: TOTAL NO. of ITERATIONS REACHED LIMIT.\n",
            "\n",
            "Increase the number of iterations (max_iter) or scale the data as shown in:\n",
            "    https://scikit-learn.org/stable/modules/preprocessing.html\n",
            "Please also refer to the documentation for alternative solver options:\n",
            "    https://scikit-learn.org/stable/modules/linear_model.html#logistic-regression\n",
            "  n_iter_i = _check_optimize_result(\n"
          ]
        },
        {
          "output_type": "execute_result",
          "data": {
            "text/plain": [
              "79.07305306685045"
            ]
          },
          "metadata": {},
          "execution_count": 12
        }
      ]
    },
    {
      "cell_type": "code",
      "source": [
        "lgrg.score(x_test, y_test)*100"
      ],
      "metadata": {
        "colab": {
          "base_uri": "https://localhost:8080/"
        },
        "id": "1oqzAzbVWpC-",
        "outputId": "b8503beb-9267-46de-eebf-4a4b7b267b4f"
      },
      "execution_count": null,
      "outputs": [
        {
          "output_type": "execute_result",
          "data": {
            "text/plain": [
              "78.59407305306685"
            ]
          },
          "metadata": {},
          "execution_count": 13
        }
      ]
    },
    {
      "cell_type": "code",
      "source": [
        "from sklearn.metrics import accuracy_score\n",
        "y_pred_train_lgrg = lgrg.predict(x_train)\n",
        "train_accuracy_lgrg= accuracy_score(y_pred_train_lgrg, y_train)\n",
        "train_accuracy_lgrg*100"
      ],
      "metadata": {
        "colab": {
          "base_uri": "https://localhost:8080/"
        },
        "id": "lc68KVEaWxHN",
        "outputId": "37404909-6608-417e-e115-b7b7624ba5a0"
      },
      "execution_count": null,
      "outputs": [
        {
          "output_type": "execute_result",
          "data": {
            "text/plain": [
              "79.07305306685045"
            ]
          },
          "metadata": {},
          "execution_count": 14
        }
      ]
    },
    {
      "cell_type": "code",
      "source": [
        "from sklearn.metrics import accuracy_score\n",
        "y_pred_test_lgrg = lgrg.predict(x_test)\n",
        "test_accuracy_lgrg= accuracy_score(y_pred_test_lgrg, y_test)\n",
        "test_accuracy_lgrg*100"
      ],
      "metadata": {
        "colab": {
          "base_uri": "https://localhost:8080/"
        },
        "id": "Dl1zEdVnXkcX",
        "outputId": "f456856d-47be-498b-8937-35271ebf5d14"
      },
      "execution_count": null,
      "outputs": [
        {
          "output_type": "execute_result",
          "data": {
            "text/plain": [
              "78.59407305306685"
            ]
          },
          "metadata": {},
          "execution_count": 15
        }
      ]
    },
    {
      "cell_type": "code",
      "source": [
        "from sklearn.metrics import classification_report\n",
        "print(classification_report(y_test, y_pred_test_lgrg))"
      ],
      "metadata": {
        "colab": {
          "base_uri": "https://localhost:8080/"
        },
        "id": "DHjGRsklZIee",
        "outputId": "c0a1fc1e-0785-43e8-fdcf-ab957c1f56f9"
      },
      "execution_count": null,
      "outputs": [
        {
          "output_type": "stream",
          "name": "stdout",
          "text": [
            "              precision    recall  f1-score   support\n",
            "\n",
            "           0       0.71      0.57      0.64      2356\n",
            "           1       0.81      0.89      0.85      4899\n",
            "\n",
            "    accuracy                           0.79      7255\n",
            "   macro avg       0.76      0.73      0.74      7255\n",
            "weighted avg       0.78      0.79      0.78      7255\n",
            "\n"
          ]
        }
      ]
    },
    {
      "cell_type": "markdown",
      "source": [
        "# Decision Tree Classifier"
      ],
      "metadata": {
        "id": "9jfjGQwHZbnm"
      }
    },
    {
      "cell_type": "code",
      "source": [
        "from sklearn.tree import DecisionTreeClassifier\n",
        "dtc=DecisionTreeClassifier()\n",
        "\n",
        "dtc.fit(x_train, y_train)\n",
        "\n",
        "dtc.score(x_train, y_train)*100"
      ],
      "metadata": {
        "colab": {
          "base_uri": "https://localhost:8080/"
        },
        "id": "nA9nMX_NX8j1",
        "outputId": "0ab1c409-e9fa-4bbf-e759-754e3885d777"
      },
      "execution_count": null,
      "outputs": [
        {
          "output_type": "execute_result",
          "data": {
            "text/plain": [
              "99.42453480358373"
            ]
          },
          "metadata": {},
          "execution_count": 17
        }
      ]
    },
    {
      "cell_type": "code",
      "source": [
        "dtc.score(x_test, y_test)*100"
      ],
      "metadata": {
        "colab": {
          "base_uri": "https://localhost:8080/"
        },
        "id": "8apiCNVRYMaQ",
        "outputId": "0d94e1c0-080d-4b39-8d13-0860371f3329"
      },
      "execution_count": null,
      "outputs": [
        {
          "output_type": "execute_result",
          "data": {
            "text/plain": [
              "86.9882839421089"
            ]
          },
          "metadata": {},
          "execution_count": 18
        }
      ]
    },
    {
      "cell_type": "code",
      "source": [
        "from sklearn.metrics import accuracy_score"
      ],
      "metadata": {
        "id": "Vvus6VSOYS6-"
      },
      "execution_count": null,
      "outputs": []
    },
    {
      "cell_type": "code",
      "source": [
        "y_pred_train_dtc=dtc.predict(x_train)\n",
        "train_accuracy_dtc=accuracy_score(y_pred_train_dtc, y_train)\n",
        "train_accuracy_dtc*100"
      ],
      "metadata": {
        "colab": {
          "base_uri": "https://localhost:8080/"
        },
        "id": "QUUoLPWeYxzp",
        "outputId": "8a827fb3-cdde-47af-a20b-261e11af446e"
      },
      "execution_count": null,
      "outputs": [
        {
          "output_type": "execute_result",
          "data": {
            "text/plain": [
              "99.42453480358373"
            ]
          },
          "metadata": {},
          "execution_count": 20
        }
      ]
    },
    {
      "cell_type": "code",
      "source": [
        "y_pred_test_dtc=dtc.predict(x_test)\n",
        "test_accuracy_dtc=accuracy_score(y_pred_test_dtc, y_test)\n",
        "test_accuracy_dtc*100"
      ],
      "metadata": {
        "colab": {
          "base_uri": "https://localhost:8080/"
        },
        "id": "oSmxOJgSYzx_",
        "outputId": "80aa2583-e580-4c1a-9bb6-7708cd5469ab"
      },
      "execution_count": null,
      "outputs": [
        {
          "output_type": "execute_result",
          "data": {
            "text/plain": [
              "86.9882839421089"
            ]
          },
          "metadata": {},
          "execution_count": 21
        }
      ]
    },
    {
      "cell_type": "code",
      "source": [
        "from sklearn.metrics import classification_report\n",
        "print(classification_report(y_test, y_pred_test_dtc))"
      ],
      "metadata": {
        "colab": {
          "base_uri": "https://localhost:8080/"
        },
        "id": "pvMmMe-LZh8_",
        "outputId": "0b22efb6-edff-4672-8cf9-8bee0451a711"
      },
      "execution_count": null,
      "outputs": [
        {
          "output_type": "stream",
          "name": "stdout",
          "text": [
            "              precision    recall  f1-score   support\n",
            "\n",
            "           0       0.80      0.80      0.80      2356\n",
            "           1       0.91      0.90      0.90      4899\n",
            "\n",
            "    accuracy                           0.87      7255\n",
            "   macro avg       0.85      0.85      0.85      7255\n",
            "weighted avg       0.87      0.87      0.87      7255\n",
            "\n"
          ]
        }
      ]
    },
    {
      "cell_type": "markdown",
      "source": [
        "# Random Forest Classifier"
      ],
      "metadata": {
        "id": "PsC8lxj0aJW-"
      }
    },
    {
      "cell_type": "code",
      "source": [
        "from sklearn.ensemble import RandomForestClassifier\n",
        "rfc= RandomForestClassifier()\n",
        "\n",
        "rfc.fit(x_train, y_train)\n",
        "rfc.score(x_train, y_train)*100"
      ],
      "metadata": {
        "colab": {
          "base_uri": "https://localhost:8080/"
        },
        "id": "xpXn0hhyaNde",
        "outputId": "544f33df-ec9d-4f97-fc12-cc7a1bb5f3af"
      },
      "execution_count": null,
      "outputs": [
        {
          "output_type": "execute_result",
          "data": {
            "text/plain": [
              "99.42453480358373"
            ]
          },
          "metadata": {},
          "execution_count": 23
        }
      ]
    },
    {
      "cell_type": "code",
      "source": [
        "rfc.score(x_test, y_test)*100"
      ],
      "metadata": {
        "colab": {
          "base_uri": "https://localhost:8080/"
        },
        "id": "l1Pbsyl9ay3o",
        "outputId": "50309e06-9656-4826-c9ae-047488560189"
      },
      "execution_count": null,
      "outputs": [
        {
          "output_type": "execute_result",
          "data": {
            "text/plain": [
              "90.1171605789111"
            ]
          },
          "metadata": {},
          "execution_count": 24
        }
      ]
    },
    {
      "cell_type": "code",
      "source": [
        "from sklearn.metrics import accuracy_score"
      ],
      "metadata": {
        "id": "woybsorNa5N4"
      },
      "execution_count": null,
      "outputs": []
    },
    {
      "cell_type": "code",
      "source": [
        "y_pred_train_rfc=rfc.predict(x_train)\n",
        "train_accuracy_rfc=accuracy_score(y_pred_train_rfc, y_train)\n",
        "train_accuracy_rfc*100"
      ],
      "metadata": {
        "colab": {
          "base_uri": "https://localhost:8080/"
        },
        "id": "myXuYEQubUtA",
        "outputId": "21ea6a74-2c06-4b52-c50c-d0f696036ed1"
      },
      "execution_count": null,
      "outputs": [
        {
          "output_type": "execute_result",
          "data": {
            "text/plain": [
              "99.42453480358373"
            ]
          },
          "metadata": {},
          "execution_count": 26
        }
      ]
    },
    {
      "cell_type": "code",
      "source": [
        "y_pred_test_rfc=rfc.predict(x_test)\n",
        "test_accuracy_rfc=accuracy_score(y_pred_test_rfc, y_test)\n",
        "test_accuracy_rfc*100"
      ],
      "metadata": {
        "colab": {
          "base_uri": "https://localhost:8080/"
        },
        "id": "txM6F3Vvb7j3",
        "outputId": "6ed436fd-b0ae-4848-ed0c-4f161a182654"
      },
      "execution_count": null,
      "outputs": [
        {
          "output_type": "execute_result",
          "data": {
            "text/plain": [
              "90.1171605789111"
            ]
          },
          "metadata": {},
          "execution_count": 27
        }
      ]
    },
    {
      "cell_type": "code",
      "source": [
        "from sklearn.metrics import classification_report\n",
        "print(classification_report(y_test, y_pred_test_rfc))"
      ],
      "metadata": {
        "colab": {
          "base_uri": "https://localhost:8080/"
        },
        "id": "JGeLzgq-cEjp",
        "outputId": "685ebf39-cb9e-4e5b-c50f-d3cc91b0d57e"
      },
      "execution_count": null,
      "outputs": [
        {
          "output_type": "stream",
          "name": "stdout",
          "text": [
            "              precision    recall  f1-score   support\n",
            "\n",
            "           0       0.88      0.81      0.84      2356\n",
            "           1       0.91      0.94      0.93      4899\n",
            "\n",
            "    accuracy                           0.90      7255\n",
            "   macro avg       0.89      0.88      0.89      7255\n",
            "weighted avg       0.90      0.90      0.90      7255\n",
            "\n"
          ]
        }
      ]
    },
    {
      "cell_type": "markdown",
      "source": [
        "# Kneighbors Classifier"
      ],
      "metadata": {
        "id": "ZwNqaGvVclnP"
      }
    },
    {
      "cell_type": "code",
      "source": [
        "from sklearn.neighbors import KNeighborsClassifier\n",
        "knc= KNeighborsClassifier(n_neighbors=10)\n",
        "\n",
        "knc.fit(x_train, y_train)\n",
        "knc.score(x_train, y_train)*100"
      ],
      "metadata": {
        "colab": {
          "base_uri": "https://localhost:8080/"
        },
        "id": "0JVKXjeWcssn",
        "outputId": "57cf1932-383f-455b-ac64-5ff8d6ac4e2c"
      },
      "execution_count": null,
      "outputs": [
        {
          "output_type": "execute_result",
          "data": {
            "text/plain": [
              "83.97656788421777"
            ]
          },
          "metadata": {},
          "execution_count": 29
        }
      ]
    },
    {
      "cell_type": "code",
      "source": [
        "knc.score(x_test, y_test)*100"
      ],
      "metadata": {
        "colab": {
          "base_uri": "https://localhost:8080/"
        },
        "id": "GyFHwllrdI0B",
        "outputId": "79388e7f-083a-4914-eda6-7b6b39134c04"
      },
      "execution_count": null,
      "outputs": [
        {
          "output_type": "execute_result",
          "data": {
            "text/plain": [
              "79.64162646450723"
            ]
          },
          "metadata": {},
          "execution_count": 30
        }
      ]
    }
  ]
}